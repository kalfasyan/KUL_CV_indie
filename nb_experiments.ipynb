{
 "cells": [
  {
   "cell_type": "code",
   "execution_count": 1,
   "id": "agricultural-vulnerability",
   "metadata": {},
   "outputs": [],
   "source": [
    "import cv2\n",
    "import numpy as np\n",
    "import glob\n",
    "import os\n",
    "from tqdm import tqdm\n",
    "\n"
   ]
  },
  {
   "cell_type": "code",
   "execution_count": 2,
   "id": "furnished-judgment",
   "metadata": {},
   "outputs": [],
   "source": [
    "# \"\"\" BASIC INTRO CONSOLE MESSAGES \"\"\"\n",
    "# print(f\"\\n############################################\\n\\nWelcome to the greatest movie of all time..\\\n",
    "#         \\nswitch off your phones and enjoy!\\n\\n############################################\\n\")\n",
    "# print(f\"Made by Ioannis Kalfas (ioannis.kalfas@kuleuven.be)\")\n",
    "# print(f\"using OpenCV version: {cv2.__version__}\")\n",
    "# print(f'\\nMovie details:\\n')\n",
    "# print(f'\\tDuration: {minutes:.0f} minutes {seconds:.0f} second(s)')\n",
    "# print(f'\\t{frame_count} frames')\n",
    "# print(f'\\t{fps:.0f} FPS\\n')"
   ]
  },
  {
   "cell_type": "code",
   "execution_count": 3,
   "id": "official-germany",
   "metadata": {},
   "outputs": [
    {
     "name": "stderr",
     "output_type": "stream",
     "text": [
      "Processing movie frames..:   8%|▊         | 145/1830 [00:06<01:15, 22.21it/s]\n"
     ]
    }
   ],
   "source": [
    "DATADIR = './data'\n",
    "cap = cv2.VideoCapture('mymovie.mp4')\n",
    "movielen = int(cap.get(cv2.CAP_PROP_FRAME_COUNT))\n",
    "fps = cap.get(cv2.CAP_PROP_FPS)\n",
    "frame_count = int(cap.get(cv2.CAP_PROP_FRAME_COUNT))\n",
    "duration = frame_count/fps\n",
    "minutes = int(duration/60)\n",
    "seconds = duration%60\n",
    "sec = 30\n",
    "\n",
    "def rotate_image(image):\n",
    "    (h, w) = image.shape[:2]\n",
    "    (cX, cY) = (w // 2, h // 2)\n",
    "\n",
    "    # rotate our image by -90 degrees around the image\n",
    "    M = cv2.getRotationMatrix2D((cX, cY), -90, 1.0)\n",
    "    rotated = cv2.warpAffine(image, M, (w, h))\n",
    "    return rotated\n",
    "\n",
    "def resize_image(image):\n",
    "    height, width, layers = image.shape\n",
    "    new_h = int(round(height / 2))\n",
    "    new_w = int(round(width / 2))\n",
    "    resized = cv2.resize(image, (new_w, new_h))\n",
    "    return resized\n",
    "\n",
    "def save_frame(frame, name=''):\n",
    "    print(f\"Saving frame {name}\")\n",
    "    cv2.imwrite(name, frame)\n",
    "\n",
    "# def process_movie(length=0):\n",
    "\n",
    "for fi in tqdm(range(movielen), desc=\"Processing movie frames..\"):\n",
    "    ret, frame = cap.read()\n",
    "    frame = rotate_image(frame)\n",
    "    frame = resize_image(frame)\n",
    "\n",
    "    # Switch the movie between color and grayscale a few times (~4s)\n",
    "    if sec < fi < 2*sec or 3*sec < fi < 4*sec:\n",
    "        frame = cv2.cvtColor(frame, cv2.COLOR_BGR2GRAY)\n",
    "\n",
    "    elif 4*sec < fi < 8*sec:\n",
    "        frame = cv2.bilateralFilter(frame, 9, 265, 265)\n",
    "    elif 8*sec < fi < 12*sec:\n",
    "        pass\n",
    "\n",
    "\n",
    "    cv2.imshow('Frame', frame)\n",
    "    # save_frame(frame, name=f\"{DATADIR}/frame_{fi}.jpg\")\n",
    "\n",
    "    # Press Q on keyboard to  exit\n",
    "    if cv2.waitKey(25) & 0xFF == ord('q'):\n",
    "      break\n",
    "\n",
    "    if fi > 500:\n",
    "        break\n",
    "# cap.release()\n",
    "cv2.destroyAllWindows()\n",
    "\n",
    "# process_movie(movielen)\n",
    "\n",
    "cap.release()"
   ]
  },
  {
   "cell_type": "code",
   "execution_count": null,
   "id": "religious-representative",
   "metadata": {},
   "outputs": [],
   "source": []
  }
 ],
 "metadata": {
  "kernelspec": {
   "display_name": "Python 3",
   "language": "python",
   "name": "python3"
  },
  "language_info": {
   "codemirror_mode": {
    "name": "ipython",
    "version": 3
   },
   "file_extension": ".py",
   "mimetype": "text/x-python",
   "name": "python",
   "nbconvert_exporter": "python",
   "pygments_lexer": "ipython3",
   "version": "3.7.9"
  }
 },
 "nbformat": 4,
 "nbformat_minor": 5
}
